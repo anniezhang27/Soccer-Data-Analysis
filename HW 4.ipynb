{
 "cells": [
  {
   "cell_type": "code",
   "execution_count": 76,
   "id": "aab9beaa",
   "metadata": {},
   "outputs": [
    {
     "name": "stdout",
     "output_type": "stream",
     "text": [
      "                             name  rank gender  wage_eur   log_wage position  \\\n",
      "0  Lionel Andrés Messi Cuccittini    93      M  320000.0  12.676076       RW   \n",
      "1      Lucia Roberta Tough Bronze    92      F       NaN        NaN      NaN   \n",
      "2                Vivianne Miedema    92      F       NaN        NaN      NaN   \n",
      "3       Wéndèleine Thérèse Renard    92      F       NaN        NaN      NaN   \n",
      "4              Robert Lewandowski    92      M  270000.0  12.506177       ST   \n",
      "\n",
      "   nationality                 club                league preferred_foot  \\\n",
      "0    Argentina  Paris Saint-Germain        French Ligue 1           Left   \n",
      "1      England                  NaN                   NaN          Right   \n",
      "2  Netherlands                  NaN                   NaN          Right   \n",
      "3       France                  NaN                   NaN          Right   \n",
      "4       Poland    FC Bayern München  German 1. Bundesliga          Right   \n",
      "\n",
      "   shooting  passing  dribbling  defending  attacking  skill  movement  power  \\\n",
      "0      92.0     91.0       95.0  26.333333       85.8   94.0      90.2   77.8   \n",
      "1      61.0     70.0       81.0  89.000000       69.0   62.2      84.2   78.8   \n",
      "2      93.0     75.0       88.0  25.000000       86.0   79.0      80.6   84.0   \n",
      "3      70.0     62.0       73.0  91.333333       62.6   67.8      64.0   82.4   \n",
      "4      92.0     79.0       86.0  32.000000       86.0   81.4      81.6   84.8   \n",
      "\n",
      "   mentality  goalkeeping  \n",
      "0  73.833333         10.8  \n",
      "1  69.166667         12.6  \n",
      "2  70.833333         15.6  \n",
      "3  73.500000         12.8  \n",
      "4  80.666667         10.2  \n",
      "Current data observations and features:  (19630, 20)\n"
     ]
    }
   ],
   "source": [
    "# Question 1\n",
    "import pandas as pd\n",
    "import numpy as np                     \n",
    "import matplotlib.pyplot as plt\n",
    "\n",
    "# 1a\n",
    "data_df = pd.read_csv(\"fifa22.csv\")\n",
    "data_df\n",
    "print(data_df.head())\n",
    "\n",
    "# 1c\n",
    "print(\"Current data observations and features: \", data_df.shape)"
   ]
  },
  {
   "cell_type": "code",
   "execution_count": 17,
   "id": "cdf6558c",
   "metadata": {},
   "outputs": [
    {
     "name": "stdout",
     "output_type": "stream",
     "text": [
      "The number of males is 17107  and the number of females is 343\n",
      "Changed data observations and features:  (17450, 20)\n"
     ]
    }
   ],
   "source": [
    "# 1d\n",
    "gender_data = data_df[[\"gender\"]] \n",
    "\n",
    "males = 0\n",
    "females = 0\n",
    "for index, row in gender_data.iterrows():\n",
    "    if row[\"gender\"] == \"M\":\n",
    "        males +=1\n",
    "    elif row[\"gender\"] == \"F\":\n",
    "        females += 1\n",
    "        \n",
    "print(\"The number of males is\", males, \" and the number of females is\", females)\n",
    "\n",
    "# 1f\n",
    "data_df\n",
    "for index, row in data_df.iterrows():\n",
    "    if str(row[\"passing\"]) == \"nan\":\n",
    "        data_df.drop(index, inplace=True)\n",
    "        \n",
    "        \n",
    "print(\"Changed data observations and features: \", data_df.shape)\n",
    "    "
   ]
  },
  {
   "cell_type": "code",
   "execution_count": 26,
   "id": "0b20bb0a",
   "metadata": {},
   "outputs": [
    {
     "data": {
      "text/html": [
       "<table class=\"simpletable\">\n",
       "<caption>OLS Regression Results</caption>\n",
       "<tr>\n",
       "  <th>Dep. Variable:</th>          <td>rank</td>       <th>  R-squared:         </th> <td>   0.705</td> \n",
       "</tr>\n",
       "<tr>\n",
       "  <th>Model:</th>                   <td>OLS</td>       <th>  Adj. R-squared:    </th> <td>   0.705</td> \n",
       "</tr>\n",
       "<tr>\n",
       "  <th>Method:</th>             <td>Least Squares</td>  <th>  F-statistic:       </th> <td>1.044e+04</td>\n",
       "</tr>\n",
       "<tr>\n",
       "  <th>Date:</th>             <td>Thu, 13 Apr 2023</td> <th>  Prob (F-statistic):</th>  <td>  0.00</td>  \n",
       "</tr>\n",
       "<tr>\n",
       "  <th>Time:</th>                 <td>14:41:15</td>     <th>  Log-Likelihood:    </th> <td> -47856.</td> \n",
       "</tr>\n",
       "<tr>\n",
       "  <th>No. Observations:</th>      <td> 17450</td>      <th>  AIC:               </th> <td>9.572e+04</td>\n",
       "</tr>\n",
       "<tr>\n",
       "  <th>Df Residuals:</th>          <td> 17445</td>      <th>  BIC:               </th> <td>9.576e+04</td>\n",
       "</tr>\n",
       "<tr>\n",
       "  <th>Df Model:</th>              <td>     4</td>      <th>                     </th>     <td> </td>    \n",
       "</tr>\n",
       "<tr>\n",
       "  <th>Covariance Type:</th>      <td>nonrobust</td>    <th>                     </th>     <td> </td>    \n",
       "</tr>\n",
       "</table>\n",
       "<table class=\"simpletable\">\n",
       "<tr>\n",
       "      <td></td>         <th>coef</th>     <th>std err</th>      <th>t</th>      <th>P>|t|</th>  <th>[0.025</th>    <th>0.975]</th>  \n",
       "</tr>\n",
       "<tr>\n",
       "  <th>Intercept</th> <td>   25.3278</td> <td>    0.203</td> <td>  124.785</td> <td> 0.000</td> <td>   24.930</td> <td>   25.726</td>\n",
       "</tr>\n",
       "<tr>\n",
       "  <th>passing</th>   <td>   -0.0247</td> <td>    0.010</td> <td>   -2.425</td> <td> 0.015</td> <td>   -0.045</td> <td>   -0.005</td>\n",
       "</tr>\n",
       "<tr>\n",
       "  <th>attacking</th> <td>    0.6109</td> <td>    0.006</td> <td>   94.005</td> <td> 0.000</td> <td>    0.598</td> <td>    0.624</td>\n",
       "</tr>\n",
       "<tr>\n",
       "  <th>defending</th> <td>    0.1719</td> <td>    0.002</td> <td>   84.413</td> <td> 0.000</td> <td>    0.168</td> <td>    0.176</td>\n",
       "</tr>\n",
       "<tr>\n",
       "  <th>skill</th>     <td>    0.0066</td> <td>    0.009</td> <td>    0.730</td> <td> 0.465</td> <td>   -0.011</td> <td>    0.024</td>\n",
       "</tr>\n",
       "</table>\n",
       "<table class=\"simpletable\">\n",
       "<tr>\n",
       "  <th>Omnibus:</th>       <td>171.799</td> <th>  Durbin-Watson:     </th> <td>   1.342</td>\n",
       "</tr>\n",
       "<tr>\n",
       "  <th>Prob(Omnibus):</th> <td> 0.000</td>  <th>  Jarque-Bera (JB):  </th> <td> 178.339</td>\n",
       "</tr>\n",
       "<tr>\n",
       "  <th>Skew:</th>          <td> 0.234</td>  <th>  Prob(JB):          </th> <td>1.88e-39</td>\n",
       "</tr>\n",
       "<tr>\n",
       "  <th>Kurtosis:</th>      <td> 3.163</td>  <th>  Cond. No.          </th> <td>    790.</td>\n",
       "</tr>\n",
       "</table><br/><br/>Warnings:<br/>[1] Standard Errors assume that the covariance matrix of the errors is correctly specified."
      ],
      "text/plain": [
       "<class 'statsmodels.iolib.summary.Summary'>\n",
       "\"\"\"\n",
       "                            OLS Regression Results                            \n",
       "==============================================================================\n",
       "Dep. Variable:                   rank   R-squared:                       0.705\n",
       "Model:                            OLS   Adj. R-squared:                  0.705\n",
       "Method:                 Least Squares   F-statistic:                 1.044e+04\n",
       "Date:                Thu, 13 Apr 2023   Prob (F-statistic):               0.00\n",
       "Time:                        14:41:15   Log-Likelihood:                -47856.\n",
       "No. Observations:               17450   AIC:                         9.572e+04\n",
       "Df Residuals:                   17445   BIC:                         9.576e+04\n",
       "Df Model:                           4                                         \n",
       "Covariance Type:            nonrobust                                         \n",
       "==============================================================================\n",
       "                 coef    std err          t      P>|t|      [0.025      0.975]\n",
       "------------------------------------------------------------------------------\n",
       "Intercept     25.3278      0.203    124.785      0.000      24.930      25.726\n",
       "passing       -0.0247      0.010     -2.425      0.015      -0.045      -0.005\n",
       "attacking      0.6109      0.006     94.005      0.000       0.598       0.624\n",
       "defending      0.1719      0.002     84.413      0.000       0.168       0.176\n",
       "skill          0.0066      0.009      0.730      0.465      -0.011       0.024\n",
       "==============================================================================\n",
       "Omnibus:                      171.799   Durbin-Watson:                   1.342\n",
       "Prob(Omnibus):                  0.000   Jarque-Bera (JB):              178.339\n",
       "Skew:                           0.234   Prob(JB):                     1.88e-39\n",
       "Kurtosis:                       3.163   Cond. No.                         790.\n",
       "==============================================================================\n",
       "\n",
       "Warnings:\n",
       "[1] Standard Errors assume that the covariance matrix of the errors is correctly specified.\n",
       "\"\"\""
      ]
     },
     "execution_count": 26,
     "metadata": {},
     "output_type": "execute_result"
    }
   ],
   "source": [
    "# Question 2\n",
    "import statsmodels.formula.api as smf\n",
    "import statsmodels.api as sm\n",
    "\n",
    "# 2a\n",
    "results = smf.ols('rank ~ passing + attacking + defending + skill', data=data_df).fit()\n",
    "results.summary()"
   ]
  },
  {
   "cell_type": "code",
   "execution_count": 1,
   "id": "77c7aa99",
   "metadata": {},
   "outputs": [],
   "source": [
    "# question 3\n",
    "from sklearn.model_selection import train_test_split\n",
    "from sklearn.preprocessing import StandardScaler\n",
    "from sklearn.neighbors import KNeighborsClassifier\n",
    "from sklearn.neighbors import KNeighborsRegressor\n",
    "from sklearn import metrics\n",
    "from sklearn.cluster import KMeans\n",
    "from sklearn import datasets, linear_model"
   ]
  },
  {
   "cell_type": "code",
   "execution_count": 18,
   "id": "f66ebf55",
   "metadata": {},
   "outputs": [
    {
     "data": {
      "text/html": [
       "<div>\n",
       "<style scoped>\n",
       "    .dataframe tbody tr th:only-of-type {\n",
       "        vertical-align: middle;\n",
       "    }\n",
       "\n",
       "    .dataframe tbody tr th {\n",
       "        vertical-align: top;\n",
       "    }\n",
       "\n",
       "    .dataframe thead th {\n",
       "        text-align: right;\n",
       "    }\n",
       "</style>\n",
       "<table border=\"1\" class=\"dataframe\">\n",
       "  <thead>\n",
       "    <tr style=\"text-align: right;\">\n",
       "      <th></th>\n",
       "      <th>passing</th>\n",
       "      <th>attacking</th>\n",
       "      <th>defending</th>\n",
       "      <th>skill</th>\n",
       "    </tr>\n",
       "  </thead>\n",
       "  <tbody>\n",
       "    <tr>\n",
       "      <th>0</th>\n",
       "      <td>91.0</td>\n",
       "      <td>85.8</td>\n",
       "      <td>26.333333</td>\n",
       "      <td>94.0</td>\n",
       "    </tr>\n",
       "    <tr>\n",
       "      <th>1</th>\n",
       "      <td>70.0</td>\n",
       "      <td>69.0</td>\n",
       "      <td>89.000000</td>\n",
       "      <td>62.2</td>\n",
       "    </tr>\n",
       "    <tr>\n",
       "      <th>2</th>\n",
       "      <td>75.0</td>\n",
       "      <td>86.0</td>\n",
       "      <td>25.000000</td>\n",
       "      <td>79.0</td>\n",
       "    </tr>\n",
       "    <tr>\n",
       "      <th>3</th>\n",
       "      <td>62.0</td>\n",
       "      <td>62.6</td>\n",
       "      <td>91.333333</td>\n",
       "      <td>67.8</td>\n",
       "    </tr>\n",
       "    <tr>\n",
       "      <th>4</th>\n",
       "      <td>79.0</td>\n",
       "      <td>86.0</td>\n",
       "      <td>32.000000</td>\n",
       "      <td>81.4</td>\n",
       "    </tr>\n",
       "  </tbody>\n",
       "</table>\n",
       "</div>"
      ],
      "text/plain": [
       "   passing  attacking  defending  skill\n",
       "0     91.0       85.8  26.333333   94.0\n",
       "1     70.0       69.0  89.000000   62.2\n",
       "2     75.0       86.0  25.000000   79.0\n",
       "3     62.0       62.6  91.333333   67.8\n",
       "4     79.0       86.0  32.000000   81.4"
      ]
     },
     "execution_count": 18,
     "metadata": {},
     "output_type": "execute_result"
    }
   ],
   "source": [
    "# 3b\n",
    "X_dataframe = data_df[['passing', 'attacking', 'defending', 'skill']]\n",
    "Y_dataframe = data_df[['rank']]\n",
    "X_dataframe.head()"
   ]
  },
  {
   "cell_type": "code",
   "execution_count": 20,
   "id": "042dbaca",
   "metadata": {},
   "outputs": [
    {
     "data": {
      "text/html": [
       "<div>\n",
       "<style scoped>\n",
       "    .dataframe tbody tr th:only-of-type {\n",
       "        vertical-align: middle;\n",
       "    }\n",
       "\n",
       "    .dataframe tbody tr th {\n",
       "        vertical-align: top;\n",
       "    }\n",
       "\n",
       "    .dataframe thead th {\n",
       "        text-align: right;\n",
       "    }\n",
       "</style>\n",
       "<table border=\"1\" class=\"dataframe\">\n",
       "  <thead>\n",
       "    <tr style=\"text-align: right;\">\n",
       "      <th></th>\n",
       "      <th>rank</th>\n",
       "    </tr>\n",
       "  </thead>\n",
       "  <tbody>\n",
       "    <tr>\n",
       "      <th>0</th>\n",
       "      <td>93</td>\n",
       "    </tr>\n",
       "    <tr>\n",
       "      <th>1</th>\n",
       "      <td>92</td>\n",
       "    </tr>\n",
       "    <tr>\n",
       "      <th>2</th>\n",
       "      <td>92</td>\n",
       "    </tr>\n",
       "    <tr>\n",
       "      <th>3</th>\n",
       "      <td>92</td>\n",
       "    </tr>\n",
       "    <tr>\n",
       "      <th>4</th>\n",
       "      <td>92</td>\n",
       "    </tr>\n",
       "  </tbody>\n",
       "</table>\n",
       "</div>"
      ],
      "text/plain": [
       "   rank\n",
       "0    93\n",
       "1    92\n",
       "2    92\n",
       "3    92\n",
       "4    92"
      ]
     },
     "execution_count": 20,
     "metadata": {},
     "output_type": "execute_result"
    }
   ],
   "source": [
    "# 3b cont.\n",
    "Y_dataframe.head()"
   ]
  },
  {
   "cell_type": "code",
   "execution_count": 21,
   "id": "1c1abd19",
   "metadata": {},
   "outputs": [
    {
     "data": {
      "text/html": [
       "<div>\n",
       "<style scoped>\n",
       "    .dataframe tbody tr th:only-of-type {\n",
       "        vertical-align: middle;\n",
       "    }\n",
       "\n",
       "    .dataframe tbody tr th {\n",
       "        vertical-align: top;\n",
       "    }\n",
       "\n",
       "    .dataframe thead th {\n",
       "        text-align: right;\n",
       "    }\n",
       "</style>\n",
       "<table border=\"1\" class=\"dataframe\">\n",
       "  <thead>\n",
       "    <tr style=\"text-align: right;\">\n",
       "      <th></th>\n",
       "      <th>passing</th>\n",
       "      <th>attacking</th>\n",
       "      <th>defending</th>\n",
       "      <th>skill</th>\n",
       "    </tr>\n",
       "  </thead>\n",
       "  <tbody>\n",
       "    <tr>\n",
       "      <th>0</th>\n",
       "      <td>91.0</td>\n",
       "      <td>85.8</td>\n",
       "      <td>26.333333</td>\n",
       "      <td>94.0</td>\n",
       "    </tr>\n",
       "    <tr>\n",
       "      <th>2</th>\n",
       "      <td>75.0</td>\n",
       "      <td>86.0</td>\n",
       "      <td>25.000000</td>\n",
       "      <td>79.0</td>\n",
       "    </tr>\n",
       "    <tr>\n",
       "      <th>4</th>\n",
       "      <td>79.0</td>\n",
       "      <td>86.0</td>\n",
       "      <td>32.000000</td>\n",
       "      <td>81.4</td>\n",
       "    </tr>\n",
       "    <tr>\n",
       "      <th>5</th>\n",
       "      <td>80.0</td>\n",
       "      <td>82.2</td>\n",
       "      <td>30.666667</td>\n",
       "      <td>80.8</td>\n",
       "    </tr>\n",
       "    <tr>\n",
       "      <th>7</th>\n",
       "      <td>93.0</td>\n",
       "      <td>81.4</td>\n",
       "      <td>62.000000</td>\n",
       "      <td>88.0</td>\n",
       "    </tr>\n",
       "  </tbody>\n",
       "</table>\n",
       "</div>"
      ],
      "text/plain": [
       "   passing  attacking  defending  skill\n",
       "0     91.0       85.8  26.333333   94.0\n",
       "2     75.0       86.0  25.000000   79.0\n",
       "4     79.0       86.0  32.000000   81.4\n",
       "5     80.0       82.2  30.666667   80.8\n",
       "7     93.0       81.4  62.000000   88.0"
      ]
     },
     "execution_count": 21,
     "metadata": {},
     "output_type": "execute_result"
    }
   ],
   "source": [
    "# 3c\n",
    "random = np.random.choice([True, False], size=len(data_df), p=[0.75, 0.25])\n",
    "train = data_df.loc[random]\n",
    "test = data_df.loc[random]\n",
    "\n",
    "X_train = train[['passing', 'attacking', 'defending', 'skill']]\n",
    "Y_train = train[['rank']]\n",
    "X_test = test[['passing', 'attacking', 'defending', 'skill']]\n",
    "Y_test = test[['rank']]\n",
    "\n",
    "X_train.head()\n"
   ]
  },
  {
   "cell_type": "code",
   "execution_count": 22,
   "id": "8c535e0a",
   "metadata": {},
   "outputs": [
    {
     "name": "stdout",
     "output_type": "stream",
     "text": [
      "Intercept:  [25.29498548]\n",
      "Coefficients:  [[-0.02472657  0.61402837  0.17139945  0.00439463]]\n"
     ]
    }
   ],
   "source": [
    "# 3d\n",
    "reg = LinearRegression()\n",
    "reg.fit(X_train, Y_train)\n",
    "print(\"Intercept: \", reg.intercept_)\n",
    "print(\"Coefficients: \", reg.coef_)\n",
    "ypred = reg.predict(X_test)"
   ]
  },
  {
   "cell_type": "code",
   "execution_count": 26,
   "id": "d4afd004",
   "metadata": {},
   "outputs": [
    {
     "name": "stdout",
     "output_type": "stream",
     "text": [
      "[[90.2]\n",
      " [87.2]\n",
      " [89.4]]\n"
     ]
    }
   ],
   "source": [
    "# 3f\n",
    "K_reg = KNeighborsRegressor(n_neighbors=5)\n",
    "KNeighborsRegressor()\n",
    "K_reg.fit(X_train, Y_train)\n",
    "y_pred = K_reg.predict(X_test)\n",
    "print(y_pred[:3])"
   ]
  },
  {
   "cell_type": "code",
   "execution_count": 27,
   "id": "4be78472",
   "metadata": {},
   "outputs": [
    {
     "data": {
      "image/png": "[encoded data removed]",
      "text/plain": [
       "<Figure size 432x288 with 1 Axes>"
      ]
     },
     "metadata": {
      "needs_background": "light"
     },
     "output_type": "display_data"
    }
   ],
   "source": [
    "# 3g\n",
    "plt.scatter(Y_test, y_pred)\n",
    "plt.xlabel(\"Actual value of Y test data\")\n",
    "plt.ylabel(\"Predicted Y values for X test data\")\n",
    "plt.title(\"Actual vs. Predicted Y values for the X test data\")\n",
    "plt.show()"
   ]
  },
  {
   "cell_type": "code",
   "execution_count": 29,
   "id": "12a9dc79",
   "metadata": {},
   "outputs": [
    {
     "name": "stdout",
     "output_type": "stream",
     "text": [
      "RMSE: rank    1.845659\n",
      "dtype: float64\n"
     ]
    }
   ],
   "source": [
    "# 3h\n",
    "MSE_reg = np.mean((Y_test - y_pred)**2)\n",
    "RMSE_reg = MSE_reg**(0.5)\n",
    "print(\"RMSE:\", RMSE_reg)"
   ]
  },
  {
   "cell_type": "code",
   "execution_count": 30,
   "id": "e3021a56",
   "metadata": {},
   "outputs": [
    {
     "data": {
      "text/plain": [
       "Right    13044\n",
       "Left      4406\n",
       "Name: preferred_foot, dtype: int64"
      ]
     },
     "execution_count": 30,
     "metadata": {},
     "output_type": "execute_result"
    }
   ],
   "source": [
    "# question 4\n",
    "\n",
    "# 4a\n",
    "data_df[\"preferred_foot\"].value_counts()"
   ]
  },
  {
   "cell_type": "code",
   "execution_count": 31,
   "id": "dee3c6b5",
   "metadata": {},
   "outputs": [
    {
     "name": "stdout",
     "output_type": "stream",
     "text": [
      "0.7475071633237822\n"
     ]
    }
   ],
   "source": [
    "# 4b\n",
    "total_feet = len(data_df[\"preferred_foot\"])\n",
    "right_foot = data_df[\"preferred_foot\"].value_counts()[\"Right\"]\n",
    "left_foot = data_df[\"preferred_foot\"].value_counts()[\"Left\"]\n",
    "probability_rightfoot = (right_foot / total_feet)\n",
    "probability_leftfoot = (left_foot / total_feet)\n",
    "\n",
    "print(probability_rightfoot)"
   ]
  },
  {
   "cell_type": "code",
   "execution_count": 33,
   "id": "e9894d4d",
   "metadata": {},
   "outputs": [
    {
     "data": {
      "text/html": [
       "<div>\n",
       "<style scoped>\n",
       "    .dataframe tbody tr th:only-of-type {\n",
       "        vertical-align: middle;\n",
       "    }\n",
       "\n",
       "    .dataframe tbody tr th {\n",
       "        vertical-align: top;\n",
       "    }\n",
       "\n",
       "    .dataframe thead th {\n",
       "        text-align: right;\n",
       "    }\n",
       "</style>\n",
       "<table border=\"1\" class=\"dataframe\">\n",
       "  <thead>\n",
       "    <tr style=\"text-align: right;\">\n",
       "      <th></th>\n",
       "      <th>shooting</th>\n",
       "      <th>passing</th>\n",
       "      <th>dribbling</th>\n",
       "      <th>defending</th>\n",
       "      <th>attacking</th>\n",
       "      <th>skill</th>\n",
       "      <th>movement</th>\n",
       "      <th>power</th>\n",
       "      <th>mentality</th>\n",
       "      <th>goalkeeping</th>\n",
       "    </tr>\n",
       "  </thead>\n",
       "  <tbody>\n",
       "    <tr>\n",
       "      <th>0</th>\n",
       "      <td>92.0</td>\n",
       "      <td>91.0</td>\n",
       "      <td>95.0</td>\n",
       "      <td>26.333333</td>\n",
       "      <td>85.8</td>\n",
       "      <td>94.0</td>\n",
       "      <td>90.2</td>\n",
       "      <td>77.8</td>\n",
       "      <td>73.833333</td>\n",
       "      <td>10.8</td>\n",
       "    </tr>\n",
       "    <tr>\n",
       "      <th>1</th>\n",
       "      <td>61.0</td>\n",
       "      <td>70.0</td>\n",
       "      <td>81.0</td>\n",
       "      <td>89.000000</td>\n",
       "      <td>69.0</td>\n",
       "      <td>62.2</td>\n",
       "      <td>84.2</td>\n",
       "      <td>78.8</td>\n",
       "      <td>69.166667</td>\n",
       "      <td>12.6</td>\n",
       "    </tr>\n",
       "    <tr>\n",
       "      <th>2</th>\n",
       "      <td>93.0</td>\n",
       "      <td>75.0</td>\n",
       "      <td>88.0</td>\n",
       "      <td>25.000000</td>\n",
       "      <td>86.0</td>\n",
       "      <td>79.0</td>\n",
       "      <td>80.6</td>\n",
       "      <td>84.0</td>\n",
       "      <td>70.833333</td>\n",
       "      <td>15.6</td>\n",
       "    </tr>\n",
       "    <tr>\n",
       "      <th>3</th>\n",
       "      <td>70.0</td>\n",
       "      <td>62.0</td>\n",
       "      <td>73.0</td>\n",
       "      <td>91.333333</td>\n",
       "      <td>62.6</td>\n",
       "      <td>67.8</td>\n",
       "      <td>64.0</td>\n",
       "      <td>82.4</td>\n",
       "      <td>73.500000</td>\n",
       "      <td>12.8</td>\n",
       "    </tr>\n",
       "    <tr>\n",
       "      <th>4</th>\n",
       "      <td>92.0</td>\n",
       "      <td>79.0</td>\n",
       "      <td>86.0</td>\n",
       "      <td>32.000000</td>\n",
       "      <td>86.0</td>\n",
       "      <td>81.4</td>\n",
       "      <td>81.6</td>\n",
       "      <td>84.8</td>\n",
       "      <td>80.666667</td>\n",
       "      <td>10.2</td>\n",
       "    </tr>\n",
       "  </tbody>\n",
       "</table>\n",
       "</div>"
      ],
      "text/plain": [
       "   shooting  passing  dribbling  defending  attacking  skill  movement  power  \\\n",
       "0      92.0     91.0       95.0  26.333333       85.8   94.0      90.2   77.8   \n",
       "1      61.0     70.0       81.0  89.000000       69.0   62.2      84.2   78.8   \n",
       "2      93.0     75.0       88.0  25.000000       86.0   79.0      80.6   84.0   \n",
       "3      70.0     62.0       73.0  91.333333       62.6   67.8      64.0   82.4   \n",
       "4      92.0     79.0       86.0  32.000000       86.0   81.4      81.6   84.8   \n",
       "\n",
       "   mentality  goalkeeping  \n",
       "0  73.833333         10.8  \n",
       "1  69.166667         12.6  \n",
       "2  70.833333         15.6  \n",
       "3  73.500000         12.8  \n",
       "4  80.666667         10.2  "
      ]
     },
     "execution_count": 33,
     "metadata": {},
     "output_type": "execute_result"
    }
   ],
   "source": [
    "# 4c\n",
    "X_df = data_df[[\"shooting\", \"passing\", \"dribbling\", \"defending\", \"attacking\", \"skill\", \"movement\", \"power\", \"mentality\", \"goalkeeping\"]]\n",
    "X_df.head()"
   ]
  },
  {
   "cell_type": "code",
   "execution_count": 37,
   "id": "785b801a",
   "metadata": {},
   "outputs": [
    {
     "name": "stdout",
     "output_type": "stream",
     "text": [
      "[[ 2.7843116   3.29664165  3.31535783 -1.39304935  3.40016362  3.54858025\n",
      "   2.77464012  1.94428215  2.18061369  0.2816757 ]\n",
      " [ 0.59771861  1.22971891  1.87671942  2.13166681  1.59341682  0.59820902\n",
      "   2.07280881  2.06650141  1.62369703  1.48110007]\n",
      " [ 2.85484686  1.72184337  2.59603862 -1.46804331  3.42167251  2.15689571\n",
      "   1.65171003  2.70204154  1.82259584  3.48014068]]\n"
     ]
    }
   ],
   "source": [
    "# 4d\n",
    "scaler = StandardScaler()\n",
    "scaled = scaler.fit_transform(X_df)\n",
    "print(scaled[:3])"
   ]
  },
  {
   "cell_type": "code",
   "execution_count": 38,
   "id": "149a318d",
   "metadata": {},
   "outputs": [
    {
     "name": "stdout",
     "output_type": "stream",
     "text": [
      "[[-2.01208594 -1.42775318 -1.51435684  0.44430269 -1.82649677 -1.57281886\n",
      "  -0.96846017 -1.01342387 -1.55868391  0.54821445]\n",
      " [-0.46031026  0.34389488  0.74636066  0.4255542  -0.27785665  0.61676481\n",
      "   0.69254058 -0.6467661  -0.30562141 -0.25140179]\n",
      " [ 0.31557757  0.1470451   0.12980134 -0.88684012  0.08779448  0.00442362\n",
      "  -0.05607947 -0.40232758 -0.36529105 -1.85063428]]\n"
     ]
    }
   ],
   "source": [
    "# 4e\n",
    "X_train, X_test, Y_train, Y_test = train_test_split(scaled, data_df[\"preferred_foot\"], test_size=0.3, random_state=456)\n",
    "print(X_train[:3])"
   ]
  },
  {
   "cell_type": "code",
   "execution_count": 44,
   "id": "56d13182",
   "metadata": {},
   "outputs": [
    {
     "data": {
      "image/png": "[encoded data removed]",
      "text/plain": [
       "<Figure size 432x288 with 1 Axes>"
      ]
     },
     "metadata": {
      "needs_background": "light"
     },
     "output_type": "display_data"
    }
   ],
   "source": [
    "# 4f\n",
    "from sklearn.metrics import accuracy_score\n",
    "\n",
    "k_values = range(1, 31)\n",
    "accuracy = []\n",
    "\n",
    "for k in k_values:\n",
    "    knn = KNeighborsClassifier(n_neighbors=k)\n",
    "    knn.fit(X_train, Y_train)\n",
    "    y_pred = knn.predict(X_test)\n",
    "    accurate = accuracy_score(Y_test, y_pred)\n",
    "    accuracy.append(accurate)\n",
    "\n",
    "plt.plot(k_values, accuracy)\n",
    "plt.xlabel(\"k values\")\n",
    "plt.ylabel(\"Accuracy\")\n",
    "plt.show()"
   ]
  },
  {
   "cell_type": "code",
   "execution_count": 45,
   "id": "f9d66f7f",
   "metadata": {},
   "outputs": [
    {
     "name": "stdout",
     "output_type": "stream",
     "text": [
      "['Right' 'Right' 'Right']\n"
     ]
    }
   ],
   "source": [
    "# 4g\n",
    "k = 20\n",
    "knn = KNeighborsClassifier(n_neighbors=k)\n",
    "knn.fit(X_train, Y_train)\n",
    "y_pref = knn.predict(X_test)\n",
    "print(y_pref[:3])"
   ]
  },
  {
   "cell_type": "code",
   "execution_count": 50,
   "id": "a5c9dbc3",
   "metadata": {},
   "outputs": [
    {
     "name": "stdout",
     "output_type": "stream",
     "text": [
      "[[ 104 1222]\n",
      " [ 135 3774]]\n",
      "1222\n"
     ]
    }
   ],
   "source": [
    "# 4h\n",
    "from sklearn.metrics import confusion_matrix\n",
    "\n",
    "y_pred = knn.predict(X_test)\n",
    "matrix = confusion_matrix(Y_test, y_pred)\n",
    "print(matrix)\n",
    "print(matrix[0, 1])"
   ]
  },
  {
   "cell_type": "code",
   "execution_count": 51,
   "id": "b3ced8c5",
   "metadata": {},
   "outputs": [
    {
     "name": "stdout",
     "output_type": "stream",
     "text": [
      "              precision    recall  f1-score   support\n",
      "\n",
      "        Left       0.44      0.08      0.13      1326\n",
      "       Right       0.76      0.97      0.85      3909\n",
      "\n",
      "    accuracy                           0.74      5235\n",
      "   macro avg       0.60      0.52      0.49      5235\n",
      "weighted avg       0.67      0.74      0.67      5235\n",
      "\n"
     ]
    }
   ],
   "source": [
    "# 4i\n",
    "from sklearn.metrics import classification_report\n",
    "\n",
    "print(classification_report(Y_test, y_pred))"
   ]
  },
  {
   "cell_type": "code",
   "execution_count": 54,
   "id": "38499147",
   "metadata": {},
   "outputs": [
    {
     "data": {
      "text/html": [
       "<div>\n",
       "<style scoped>\n",
       "    .dataframe tbody tr th:only-of-type {\n",
       "        vertical-align: middle;\n",
       "    }\n",
       "\n",
       "    .dataframe tbody tr th {\n",
       "        vertical-align: top;\n",
       "    }\n",
       "\n",
       "    .dataframe thead th {\n",
       "        text-align: right;\n",
       "    }\n",
       "</style>\n",
       "<table border=\"1\" class=\"dataframe\">\n",
       "  <thead>\n",
       "    <tr style=\"text-align: right;\">\n",
       "      <th></th>\n",
       "      <th>shooting</th>\n",
       "      <th>passing</th>\n",
       "      <th>dribbling</th>\n",
       "      <th>defending</th>\n",
       "      <th>attacking</th>\n",
       "      <th>skill</th>\n",
       "      <th>movement</th>\n",
       "      <th>power</th>\n",
       "      <th>mentality</th>\n",
       "      <th>goalkeeping</th>\n",
       "    </tr>\n",
       "  </thead>\n",
       "  <tbody>\n",
       "    <tr>\n",
       "      <th>0</th>\n",
       "      <td>-2.012086</td>\n",
       "      <td>-1.427753</td>\n",
       "      <td>-1.514357</td>\n",
       "      <td>0.444303</td>\n",
       "      <td>-1.826497</td>\n",
       "      <td>-1.572819</td>\n",
       "      <td>-0.968460</td>\n",
       "      <td>-1.013424</td>\n",
       "      <td>-1.558684</td>\n",
       "      <td>0.548214</td>\n",
       "    </tr>\n",
       "    <tr>\n",
       "      <th>1</th>\n",
       "      <td>-0.460310</td>\n",
       "      <td>0.343895</td>\n",
       "      <td>0.746361</td>\n",
       "      <td>0.425554</td>\n",
       "      <td>-0.277857</td>\n",
       "      <td>0.616765</td>\n",
       "      <td>0.692541</td>\n",
       "      <td>-0.646766</td>\n",
       "      <td>-0.305621</td>\n",
       "      <td>-0.251402</td>\n",
       "    </tr>\n",
       "    <tr>\n",
       "      <th>2</th>\n",
       "      <td>0.315578</td>\n",
       "      <td>0.147045</td>\n",
       "      <td>0.129801</td>\n",
       "      <td>-0.886840</td>\n",
       "      <td>0.087794</td>\n",
       "      <td>0.004424</td>\n",
       "      <td>-0.056079</td>\n",
       "      <td>-0.402328</td>\n",
       "      <td>-0.365291</td>\n",
       "      <td>-1.850634</td>\n",
       "    </tr>\n",
       "    <tr>\n",
       "      <th>3</th>\n",
       "      <td>1.655747</td>\n",
       "      <td>2.017118</td>\n",
       "      <td>0.951880</td>\n",
       "      <td>-0.286888</td>\n",
       "      <td>1.206257</td>\n",
       "      <td>2.064117</td>\n",
       "      <td>0.552174</td>\n",
       "      <td>0.599870</td>\n",
       "      <td>0.788322</td>\n",
       "      <td>1.614369</td>\n",
       "    </tr>\n",
       "    <tr>\n",
       "      <th>4</th>\n",
       "      <td>-1.871015</td>\n",
       "      <td>0.245470</td>\n",
       "      <td>0.027041</td>\n",
       "      <td>1.137997</td>\n",
       "      <td>-0.578981</td>\n",
       "      <td>-0.181134</td>\n",
       "      <td>-0.453784</td>\n",
       "      <td>-0.744542</td>\n",
       "      <td>0.450194</td>\n",
       "      <td>0.281676</td>\n",
       "    </tr>\n",
       "  </tbody>\n",
       "</table>\n",
       "</div>"
      ],
      "text/plain": [
       "   shooting   passing  dribbling  defending  attacking     skill  movement  \\\n",
       "0 -2.012086 -1.427753  -1.514357   0.444303  -1.826497 -1.572819 -0.968460   \n",
       "1 -0.460310  0.343895   0.746361   0.425554  -0.277857  0.616765  0.692541   \n",
       "2  0.315578  0.147045   0.129801  -0.886840   0.087794  0.004424 -0.056079   \n",
       "3  1.655747  2.017118   0.951880  -0.286888   1.206257  2.064117  0.552174   \n",
       "4 -1.871015  0.245470   0.027041   1.137997  -0.578981 -0.181134 -0.453784   \n",
       "\n",
       "      power  mentality  goalkeeping  \n",
       "0 -1.013424  -1.558684     0.548214  \n",
       "1 -0.646766  -0.305621    -0.251402  \n",
       "2 -0.402328  -0.365291    -1.850634  \n",
       "3  0.599870   0.788322     1.614369  \n",
       "4 -0.744542   0.450194     0.281676  "
      ]
     },
     "execution_count": 54,
     "metadata": {},
     "output_type": "execute_result"
    }
   ],
   "source": [
    "# question 5\n",
    "\n",
    "# 5a\n",
    "scaled_df = pd.DataFrame(X_train, columns=X_df.columns)\n",
    "scaled_df.head()"
   ]
  },
  {
   "cell_type": "code",
   "execution_count": 56,
   "id": "2bc16c9e",
   "metadata": {},
   "outputs": [
    {
     "data": {
      "text/html": [
       "<div>\n",
       "<style scoped>\n",
       "    .dataframe tbody tr th:only-of-type {\n",
       "        vertical-align: middle;\n",
       "    }\n",
       "\n",
       "    .dataframe tbody tr th {\n",
       "        vertical-align: top;\n",
       "    }\n",
       "\n",
       "    .dataframe thead th {\n",
       "        text-align: right;\n",
       "    }\n",
       "</style>\n",
       "<table border=\"1\" class=\"dataframe\">\n",
       "  <thead>\n",
       "    <tr style=\"text-align: right;\">\n",
       "      <th></th>\n",
       "      <th>shooting</th>\n",
       "      <th>passing</th>\n",
       "      <th>dribbling</th>\n",
       "      <th>defending</th>\n",
       "      <th>attacking</th>\n",
       "      <th>skill</th>\n",
       "      <th>movement</th>\n",
       "      <th>power</th>\n",
       "      <th>mentality</th>\n",
       "      <th>goalkeeping</th>\n",
       "    </tr>\n",
       "  </thead>\n",
       "  <tbody>\n",
       "    <tr>\n",
       "      <th>3643</th>\n",
       "      <td>0.456648</td>\n",
       "      <td>-0.246654</td>\n",
       "      <td>-0.178478</td>\n",
       "      <td>-1.393049</td>\n",
       "      <td>0.410428</td>\n",
       "      <td>-0.385248</td>\n",
       "      <td>0.481991</td>\n",
       "      <td>0.770977</td>\n",
       "      <td>-0.504520</td>\n",
       "      <td>1.481100</td>\n",
       "    </tr>\n",
       "    <tr>\n",
       "      <th>594</th>\n",
       "      <td>1.303071</td>\n",
       "      <td>1.328144</td>\n",
       "      <td>2.082239</td>\n",
       "      <td>-0.905589</td>\n",
       "      <td>1.120221</td>\n",
       "      <td>1.655889</td>\n",
       "      <td>2.447119</td>\n",
       "      <td>-0.011226</td>\n",
       "      <td>1.245789</td>\n",
       "      <td>-1.450826</td>\n",
       "    </tr>\n",
       "    <tr>\n",
       "      <th>1659</th>\n",
       "      <td>-0.954057</td>\n",
       "      <td>-0.246654</td>\n",
       "      <td>-1.000557</td>\n",
       "      <td>0.575542</td>\n",
       "      <td>-0.449928</td>\n",
       "      <td>-0.923366</td>\n",
       "      <td>-0.360206</td>\n",
       "      <td>0.257656</td>\n",
       "      <td>-0.226062</td>\n",
       "      <td>0.681484</td>\n",
       "    </tr>\n",
       "    <tr>\n",
       "      <th>6688</th>\n",
       "      <td>0.879860</td>\n",
       "      <td>-0.345079</td>\n",
       "      <td>0.643601</td>\n",
       "      <td>-1.561786</td>\n",
       "      <td>0.668535</td>\n",
       "      <td>0.004424</td>\n",
       "      <td>0.715935</td>\n",
       "      <td>-0.109001</td>\n",
       "      <td>-1.021657</td>\n",
       "      <td>-0.784479</td>\n",
       "    </tr>\n",
       "    <tr>\n",
       "      <th>4183</th>\n",
       "      <td>-0.742451</td>\n",
       "      <td>-0.049805</td>\n",
       "      <td>-0.795038</td>\n",
       "      <td>1.044254</td>\n",
       "      <td>-0.643508</td>\n",
       "      <td>-0.979033</td>\n",
       "      <td>-0.126263</td>\n",
       "      <td>0.746533</td>\n",
       "      <td>-0.584080</td>\n",
       "      <td>0.814753</td>\n",
       "    </tr>\n",
       "  </tbody>\n",
       "</table>\n",
       "</div>"
      ],
      "text/plain": [
       "      shooting   passing  dribbling  defending  attacking     skill  movement  \\\n",
       "3643  0.456648 -0.246654  -0.178478  -1.393049   0.410428 -0.385248  0.481991   \n",
       "594   1.303071  1.328144   2.082239  -0.905589   1.120221  1.655889  2.447119   \n",
       "1659 -0.954057 -0.246654  -1.000557   0.575542  -0.449928 -0.923366 -0.360206   \n",
       "6688  0.879860 -0.345079   0.643601  -1.561786   0.668535  0.004424  0.715935   \n",
       "4183 -0.742451 -0.049805  -0.795038   1.044254  -0.643508 -0.979033 -0.126263   \n",
       "\n",
       "         power  mentality  goalkeeping  \n",
       "3643  0.770977  -0.504520     1.481100  \n",
       "594  -0.011226   1.245789    -1.450826  \n",
       "1659  0.257656  -0.226062     0.681484  \n",
       "6688 -0.109001  -1.021657    -0.784479  \n",
       "4183  0.746533  -0.584080     0.814753  "
      ]
     },
     "execution_count": 56,
     "metadata": {},
     "output_type": "execute_result"
    }
   ],
   "source": [
    "# 5b\n",
    "X_train = pd.DataFrame(X_train, columns=X_df.columns)\n",
    "sample = X_train.sample(n=5000, random_state=2022)\n",
    "sample.head()"
   ]
  },
  {
   "cell_type": "code",
   "execution_count": 62,
   "id": "de732714",
   "metadata": {},
   "outputs": [
    {
     "name": "stdout",
     "output_type": "stream",
     "text": [
      "Inertia Values:  [30682.354985503396, 25246.096797236118, 21959.759448317578, 20155.025033342663, 18611.78630569528, 17731.472343433565, 16903.17054004801, 16205.343569358474, 15544.06484758031, 14942.164444623755, 14459.40718732694, 14040.596217668628, 13616.14495809829, 13234.57364755759, 12917.330566145227, 12642.261747464487, 12429.568020212075, 12210.170159995172, 11996.13272610765]\n",
      "Silhouette Values:  [0.30615527652465324, 0.22364859093304923, 0.22618021384545028, 0.2157878251633083, 0.1882801148423524, 0.16883403598205918, 0.1650586092608727, 0.1644775860120085, 0.16574114258075193, 0.15874125418408047, 0.1559896774765573, 0.15484058402550274, 0.15485066885667906, 0.15383138516492031, 0.15212153510772727, 0.15217419769720356, 0.14436572429904967, 0.144511220286176, 0.14444004627405926]\n"
     ]
    }
   ],
   "source": [
    "# 5c\n",
    "from sklearn.metrics import silhouette_score\n",
    "\n",
    "inertia = []\n",
    "silhouette = []\n",
    "k_values = range(2, 21)\n",
    "for k in k_values:\n",
    "    kmeans = KMeans(n_clusters=k, random_state=789)\n",
    "    kmeans.fit(sample)\n",
    "    inertia.append(kmeans.inertia_)\n",
    "    silhouette.append(silhouette_score(sample, kmeans.labels_, random_state=789))\n",
    "\n",
    "print(\"Inertia Values: \", inertia)\n",
    "print(\"Silhouette Values: \", silhouette)\n",
    "                   "
   ]
  },
  {
   "cell_type": "code",
   "execution_count": 64,
   "id": "7b3c08d4",
   "metadata": {},
   "outputs": [
    {
     "data": {
      "image/png": "[encoded data removed]",
      "text/plain": [
       "<Figure size 432x288 with 1 Axes>"
      ]
     },
     "metadata": {
      "needs_background": "light"
     },
     "output_type": "display_data"
    }
   ],
   "source": [
    "# 5d\n",
    "plt.plot(k_values, inertia, '-o')\n",
    "plt.xlabel(\"Value of K\")\n",
    "plt.ylabel(\"Inertia\")\n",
    "plt.show()"
   ]
  },
  {
   "cell_type": "code",
   "execution_count": 67,
   "id": "9d5083bb",
   "metadata": {},
   "outputs": [
    {
     "name": "stdout",
     "output_type": "stream",
     "text": [
      "The suggested elbow value:  6\n"
     ]
    },
    {
     "data": {
      "image/png": "[encoded data removed]",
      "text/plain": [
       "<Figure size 432x432 with 1 Axes>"
      ]
     },
     "metadata": {
      "needs_background": "light"
     },
     "output_type": "display_data"
    }
   ],
   "source": [
    "# 5e\n",
    "import kneed\n",
    "from kneed import KneeLocator\n",
    "\n",
    "kneeloc = KneeLocator(k_values, inertia, curve='convex', direction='decreasing')\n",
    "kneeloc.plot_knee()\n",
    "print(\"The suggested elbow value: \", kneeloc.elbow)"
   ]
  },
  {
   "cell_type": "code",
   "execution_count": 68,
   "id": "9e4263f2",
   "metadata": {},
   "outputs": [
    {
     "data": {
      "image/png": "[encoded data removed]",
      "text/plain": [
       "<Figure size 432x288 with 1 Axes>"
      ]
     },
     "metadata": {
      "needs_background": "light"
     },
     "output_type": "display_data"
    }
   ],
   "source": [
    "# 5f\n",
    "plt.plot(k_values, silhouette)\n",
    "plt.xlabel(\"Value of K\")\n",
    "plt.ylabel(\"Silhouette Score\")\n",
    "plt.show()"
   ]
  },
  {
   "cell_type": "code",
   "execution_count": 69,
   "id": "f89dc224",
   "metadata": {},
   "outputs": [
    {
     "data": {
      "text/html": [
       "<div>\n",
       "<style scoped>\n",
       "    .dataframe tbody tr th:only-of-type {\n",
       "        vertical-align: middle;\n",
       "    }\n",
       "\n",
       "    .dataframe tbody tr th {\n",
       "        vertical-align: top;\n",
       "    }\n",
       "\n",
       "    .dataframe thead th {\n",
       "        text-align: right;\n",
       "    }\n",
       "</style>\n",
       "<table border=\"1\" class=\"dataframe\">\n",
       "  <thead>\n",
       "    <tr style=\"text-align: right;\">\n",
       "      <th></th>\n",
       "      <th>shooting</th>\n",
       "      <th>passing</th>\n",
       "      <th>dribbling</th>\n",
       "      <th>defending</th>\n",
       "      <th>attacking</th>\n",
       "      <th>skill</th>\n",
       "      <th>movement</th>\n",
       "      <th>power</th>\n",
       "      <th>mentality</th>\n",
       "      <th>goalkeeping</th>\n",
       "      <th>cluster</th>\n",
       "    </tr>\n",
       "  </thead>\n",
       "  <tbody>\n",
       "    <tr>\n",
       "      <th>3643</th>\n",
       "      <td>0.456648</td>\n",
       "      <td>-0.246654</td>\n",
       "      <td>-0.178478</td>\n",
       "      <td>-1.393049</td>\n",
       "      <td>0.410428</td>\n",
       "      <td>-0.385248</td>\n",
       "      <td>0.481991</td>\n",
       "      <td>0.770977</td>\n",
       "      <td>-0.504520</td>\n",
       "      <td>1.481100</td>\n",
       "      <td>2</td>\n",
       "    </tr>\n",
       "    <tr>\n",
       "      <th>594</th>\n",
       "      <td>1.303071</td>\n",
       "      <td>1.328144</td>\n",
       "      <td>2.082239</td>\n",
       "      <td>-0.905589</td>\n",
       "      <td>1.120221</td>\n",
       "      <td>1.655889</td>\n",
       "      <td>2.447119</td>\n",
       "      <td>-0.011226</td>\n",
       "      <td>1.245789</td>\n",
       "      <td>-1.450826</td>\n",
       "      <td>3</td>\n",
       "    </tr>\n",
       "    <tr>\n",
       "      <th>1659</th>\n",
       "      <td>-0.954057</td>\n",
       "      <td>-0.246654</td>\n",
       "      <td>-1.000557</td>\n",
       "      <td>0.575542</td>\n",
       "      <td>-0.449928</td>\n",
       "      <td>-0.923366</td>\n",
       "      <td>-0.360206</td>\n",
       "      <td>0.257656</td>\n",
       "      <td>-0.226062</td>\n",
       "      <td>0.681484</td>\n",
       "      <td>17</td>\n",
       "    </tr>\n",
       "    <tr>\n",
       "      <th>6688</th>\n",
       "      <td>0.879860</td>\n",
       "      <td>-0.345079</td>\n",
       "      <td>0.643601</td>\n",
       "      <td>-1.561786</td>\n",
       "      <td>0.668535</td>\n",
       "      <td>0.004424</td>\n",
       "      <td>0.715935</td>\n",
       "      <td>-0.109001</td>\n",
       "      <td>-1.021657</td>\n",
       "      <td>-0.784479</td>\n",
       "      <td>11</td>\n",
       "    </tr>\n",
       "    <tr>\n",
       "      <th>4183</th>\n",
       "      <td>-0.742451</td>\n",
       "      <td>-0.049805</td>\n",
       "      <td>-0.795038</td>\n",
       "      <td>1.044254</td>\n",
       "      <td>-0.643508</td>\n",
       "      <td>-0.979033</td>\n",
       "      <td>-0.126263</td>\n",
       "      <td>0.746533</td>\n",
       "      <td>-0.584080</td>\n",
       "      <td>0.814753</td>\n",
       "      <td>17</td>\n",
       "    </tr>\n",
       "  </tbody>\n",
       "</table>\n",
       "</div>"
      ],
      "text/plain": [
       "      shooting   passing  dribbling  defending  attacking     skill  movement  \\\n",
       "3643  0.456648 -0.246654  -0.178478  -1.393049   0.410428 -0.385248  0.481991   \n",
       "594   1.303071  1.328144   2.082239  -0.905589   1.120221  1.655889  2.447119   \n",
       "1659 -0.954057 -0.246654  -1.000557   0.575542  -0.449928 -0.923366 -0.360206   \n",
       "6688  0.879860 -0.345079   0.643601  -1.561786   0.668535  0.004424  0.715935   \n",
       "4183 -0.742451 -0.049805  -0.795038   1.044254  -0.643508 -0.979033 -0.126263   \n",
       "\n",
       "         power  mentality  goalkeeping  cluster  \n",
       "3643  0.770977  -0.504520     1.481100        2  \n",
       "594  -0.011226   1.245789    -1.450826        3  \n",
       "1659  0.257656  -0.226062     0.681484       17  \n",
       "6688 -0.109001  -1.021657    -0.784479       11  \n",
       "4183  0.746533  -0.584080     0.814753       17  "
      ]
     },
     "execution_count": 69,
     "metadata": {},
     "output_type": "execute_result"
    }
   ],
   "source": [
    "# 5g\n",
    "kmn = KMeans(n_clusters=10, random_state=789)\n",
    "kmn.fit(sample)\n",
    "sample[\"cluster\"] = kmeans.labels_\n",
    "sample.head()"
   ]
  },
  {
   "cell_type": "code",
   "execution_count": 72,
   "id": "3e642deb",
   "metadata": {},
   "outputs": [
    {
     "data": {
      "image/png": "[encoded data removed]",
      "text/plain": [
       "<Figure size 432x288 with 1 Axes>"
      ]
     },
     "metadata": {
      "needs_background": "light"
     },
     "output_type": "display_data"
    }
   ],
   "source": [
    "# 5h\n",
    "plt.scatter(sample[\"attacking\"], sample[\"defending\"], c=kmn.labels_)\n",
    "plt.xlabel(\"Attacking Score\")\n",
    "plt.ylabel(\"Defending Score\")\n",
    "plt.show()"
   ]
  }
 ],
 "metadata": {
  "kernelspec": {
   "display_name": "Python [conda env:dsua-111]",
   "language": "python",
   "name": "conda-env-dsua-111-py"
  },
  "language_info": {
   "codemirror_mode": {
    "name": "ipython",
    "version": 3
   },
   "file_extension": ".py",
   "mimetype": "text/x-python",
   "name": "python",
   "nbconvert_exporter": "python",
   "pygments_lexer": "ipython3",
   "version": "3.7.6"
  }
 },
 "nbformat": 4,
 "nbformat_minor": 5
}
